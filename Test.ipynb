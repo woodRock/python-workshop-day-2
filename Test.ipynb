{
 "cells": [
  {
   "cell_type": "code",
   "execution_count": 1,
   "metadata": {},
   "outputs": [
    {
     "name": "stdout",
     "output_type": "stream",
     "text": [
      "Hello World!\n",
      "\n"
     ]
    }
   ],
   "source": [
    "print(\"Hello World!\\n\")"
   ]
  },
  {
   "cell_type": "code",
   "execution_count": 56,
   "metadata": {},
   "outputs": [
    {
     "name": "stdout",
     "output_type": "stream",
     "text": [
      "dd/MM/yyyy\n"
     ]
    },
    {
     "ename": "TypeError",
     "evalue": "format() missing 1 required positional argument: 'date'",
     "output_type": "error",
     "traceback": [
      "\u001b[1;31m---------------------------------------------------------------------------\u001b[0m",
      "\u001b[1;31mTypeError\u001b[0m                                 Traceback (most recent call last)",
      "\u001b[1;32m<ipython-input-56-8e5d36bcada8>\u001b[0m in \u001b[0;36m<module>\u001b[1;34m\u001b[0m\n\u001b[0;32m     30\u001b[0m         \u001b[0mprint\u001b[0m\u001b[1;33m(\u001b[0m\u001b[0mv\u001b[0m\u001b[1;33m)\u001b[0m\u001b[1;33m\u001b[0m\u001b[1;33m\u001b[0m\u001b[0m\n\u001b[0;32m     31\u001b[0m \u001b[1;33m\u001b[0m\u001b[0m\n\u001b[1;32m---> 32\u001b[1;33m \u001b[0mformat\u001b[0m\u001b[1;33m(\u001b[0m\u001b[0mtest\u001b[0m\u001b[1;33m)\u001b[0m\u001b[1;33m\u001b[0m\u001b[1;33m\u001b[0m\u001b[0m\n\u001b[0m",
      "\u001b[1;31mTypeError\u001b[0m: format() missing 1 required positional argument: 'date'"
     ]
    }
   ],
   "source": [
    "import re\n",
    "\n",
    "day = \"[0-3][1-9]\"\n",
    "month = \"[0-1][0-2]\"\n",
    "year = \"[0-9]{4}\"\n",
    "\n",
    "dates = {\n",
    "    \"{}\\/{}\\/{}\".format(day, month, year): \"dd/MM/yyyy\",\n",
    "    \"{}\\/{}\\/{}\".format(month, day, year) : \"MM/dd/yyyy\",\n",
    "    \"{}\\/{}\\/{}\".format(year,month,day) : \"yyyy/MM/dd\",\n",
    "    \"{}\\/{}\\/{}\".format(year,day,month) : \"yyyy/MM/dd\",\n",
    "    \"{}[-]{}[-]{}\".format(day,month,year) : \"dd-MM-yyyy\",\n",
    "    \"{}[-]{}[-]{}\".format(month,day,year) : \"MM-dd-yyyy\",\n",
    "    \"{}[-]{}[-]{}\".format(year,month,day) : \"yyyy-MM-dd\",\n",
    "    \"{}[-]{}[-]{}\".format(year,day,month) : \"yyyy-MM-dd\",\n",
    "}\n",
    "\n",
    "def format(style, date):\n",
    "    d = '-'\n",
    "    list = date.split('/')\n",
    "    list.reverse()\n",
    "    if style == 'dd/MM/yyyy':\n",
    "        return d.join(list)\n",
    "\n",
    "test = \"27/02/1900\"\n",
    "\n",
    "for k,v in dates.items():\n",
    "    res = re.match(k,test)\n",
    "    if res:\n",
    "        print(v)\n",
    "        \n",
    "format(test)\n"
   ]
  },
  {
   "cell_type": "code",
   "execution_count": null,
   "metadata": {},
   "outputs": [],
   "source": []
  }
 ],
 "metadata": {
  "kernelspec": {
   "display_name": "Python 3",
   "language": "python",
   "name": "python3"
  },
  "language_info": {
   "codemirror_mode": {
    "name": "ipython",
    "version": 3
   },
   "file_extension": ".py",
   "mimetype": "text/x-python",
   "name": "python",
   "nbconvert_exporter": "python",
   "pygments_lexer": "ipython3",
   "version": "3.7.9"
  }
 },
 "nbformat": 4,
 "nbformat_minor": 4
}
